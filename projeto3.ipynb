{
 "cells": [
  {
   "cell_type": "markdown",
   "metadata": {},
   "source": [
    "TARGET: nota ciencias da natureza (NU_NOTA_CN)\n",
    "\n",
    "FUTEURE: \n",
    "Situação de conclusão do Ensino Médio(TP_ST_CONCLUSAO);\n",
    "Tipo de escola do Ensino Médio(TP_ESCOLA);\n",
    "Qual é a renda mensal de sua família(Q006);\n",
    "Na sua residência tem acesso à Internet?(Q025); \n",
    "Incluindo você, quantas pessoas moram atualmente em sua residência?(Q005); \n",
    "Localização (Escola) (TP_LOCALIZACAO_ESC)"
   ]
  },
  {
   "cell_type": "markdown",
   "metadata": {
    "vscode": {
     "languageId": "plaintext"
    }
   },
   "source": [
    "# Projeto 3 - CDADOS"
   ]
  },
  {
   "cell_type": "markdown",
   "metadata": {},
   "source": [
    "**Introdução**"
   ]
  },
  {
   "cell_type": "code",
   "execution_count": null,
   "metadata": {
    "vscode": {
     "languageId": "plaintext"
    }
   },
   "outputs": [],
   "source": []
  },
  {
   "cell_type": "code",
   "execution_count": null,
   "metadata": {
    "vscode": {
     "languageId": "plaintext"
    }
   },
   "outputs": [],
   "source": []
  },
  {
   "cell_type": "code",
   "execution_count": null,
   "metadata": {
    "vscode": {
     "languageId": "plaintext"
    }
   },
   "outputs": [],
   "source": []
  },
  {
   "cell_type": "code",
   "execution_count": null,
   "metadata": {
    "vscode": {
     "languageId": "plaintext"
    }
   },
   "outputs": [],
   "source": []
  }
 ],
 "metadata": {
  "language_info": {
   "name": "python"
  }
 },
 "nbformat": 4,
 "nbformat_minor": 2
}
