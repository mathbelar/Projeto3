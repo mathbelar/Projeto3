{
 "cells": [
  {
   "cell_type": "markdown",
   "metadata": {},
   "source": [
    "TARGET: nota ciencias da natureza (NU_NOTA_CN)\n",
    "\n",
    "FUTEURE: \n",
    "Situação de conclusão do Ensino Médio (TP_ST_CONCLUSAO);\n",
    "Tipo de escola do Ensino Médio (TP_ESCOLA);\n",
    "Qual é a renda mensal de sua família (Q006);\n",
    "Na sua residência tem acesso à Internet? (Q025); \n",
    "Incluindo você, quantas pessoas moram atualmente em sua residência? (Q005); \n",
    "Localização da Escola (TP_LOCALIZACAO_ESC)"
   ]
  },
  {
   "cell_type": "markdown",
   "metadata": {
    "vscode": {
     "languageId": "plaintext"
    }
   },
   "source": [
    "# Projeto 3 - CDADOS"
   ]
  },
  {
   "cell_type": "markdown",
   "metadata": {},
   "source": [
    "# Membros: \n",
    "Augusto Ricardo Ferreira, Matheus Pereira Belarmino "
   ]
  },
  {
   "cell_type": "markdown",
   "metadata": {},
   "source": [
    "# Introdução e mineração de dados"
   ]
  },
  {
   "cell_type": "markdown",
   "metadata": {},
   "source": [
    "\n",
    "**Variável Alvo (Target):**\n",
    "\n",
    "- Nota em Ciências da Natureza (NU_NOTA_CN)\n",
    "\n",
    "**Variáveis Explicativas (Features)**\n",
    "\n",
    "- Situação de Conclusão do Ensino Médio (TP_ST_CONCLUSAO)\n",
    "- Tipo de Escola do Ensino Médio (TP_ESCOLA)\n",
    "- Renda Mensal da Família (Q006)\n",
    "- Acesso à Internet na Residência (Q025)\n",
    "- Número de Pessoas na Residência (Q005)\n",
    "- Localização da Escola (TP_LOCALIZACAO_ESC)\n"
   ]
  },
  {
   "cell_type": "markdown",
   "metadata": {},
   "source": [
    "\n",
    "\n",
    " As variáveis são classificadas em dois tipos principais: **features** e **target**. As **features** são as variáveis explicativas ou independentes, que ajudam a explicar ou prever a variável de interesse, enquanto o **target** é a variável dependente, que é o foco da nossa análise e previsão.\n",
    "\n",
    "## Descrição das Variáveis\n",
    "\n",
    "### Variável Alvo (Target):\n",
    "\n",
    "- **NU_NOTA_CN (Nota em Ciências da Natureza)**\n",
    "  - **Tipo:** Quantitativa \n",
    "  - **Descrição:** Nota obtida na prova de Ciências da Natureza\n",
    "\n",
    "### Variáveis Explicativas (Features):\n",
    "\n",
    "- **TP_ST_CONCLUSAO (Situação de Conclusão do Ensino Médio)**\n",
    "  - **Tipo:** Qualitativa ordinal\n",
    "  - **Descrição:** Status de conclusão do Ensino Médio\n",
    "\n",
    "- **TP_ESCOLA (Tipo de Escola do Ensino Médio)**\n",
    "  - **Tipo:** Qualitativa ordinal\n",
    "  - **Descrição:** Tipo de escola (1: Pública, 2: Privada, etc.)\n",
    "\n",
    "- **Q006 (Renda Mensal da Família)**\n",
    "  - **Tipo:** Qualitativa ordinal\n",
    "  - **Descrição:** Faixa de renda mensal familiar\n",
    "\n",
    "- **Q025 (Acesso à Internet na Residência)**\n",
    "  - **Tipo:** Qualitativa nominal\n",
    "  - **Descrição:** Se há ou não acesso à internet na residência (A: Sim, B: Não)\n",
    "\n",
    "- **TP_LOCALIZACAO_ESC (Localização da Escola)**\n",
    "  - **Tipo:** Qualitativa nominal\n",
    "  - **Descrição:** Localização da escola (1: Urbana, 2: Rural)\n",
    "\n",
    "- **Q005 (Número de Pessoas na Residência)**\n",
    "  - **Tipo:** Quantitativa discreta\n",
    "  - **Descrição:** Quantas pessoas moram na residência\n"
   ]
  },
  {
   "cell_type": "code",
   "execution_count": 8,
   "metadata": {},
   "outputs": [
    {
     "name": "stdout",
     "output_type": "stream",
     "text": [
      "Esperamos trabalhar no diretório\n",
      "c:\\Users\\matheus\\Desktop\\projeto2_24\\Projeto3\n"
     ]
    }
   ],
   "source": [
    "# carregando bibliotecas\n",
    "%matplotlib inline \n",
    "import pandas as pd\n",
    "import matplotlib.pyplot as plt\n",
    "import os\n",
    "import numpy as np\n",
    "import seaborn as sns\n",
    "print('Esperamos trabalhar no diretório')\n",
    "print(os.getcwd())\n"
   ]
  },
  {
   "cell_type": "code",
   "execution_count": 2,
   "metadata": {},
   "outputs": [],
   "source": [
    "#dados = pd.read_csv('c:\\zTodoresto\\Insper\\Projeto_3_Cdados\\P3\\MICRODADOS_ENEM_2023.csv', sep = ';', encoding='ISO-8859-1', chunksize=1000)\n",
    "dados = pd.read_csv('C:/Users/matheus/Desktop/projeto2_24/microdados_enem_2023/DADOS/MICRODADOS_ENEM_2023.csv', sep = ';', encoding='ISO-8859-1', chunksize=1000)\n",
    "dados = pd.concat(dados)"
   ]
  },
  {
   "cell_type": "markdown",
   "metadata": {},
   "source": [
    "A partir dos dados originais, foi criado um novo dataframe com as colunas que nos interessam para a análise."
   ]
  },
  {
   "cell_type": "code",
   "execution_count": 3,
   "metadata": {},
   "outputs": [
    {
     "data": {
      "text/plain": [
       "Index(['NU_NOTA_CN', 'TP_ESCOLA', 'Q006', 'Q025', 'TP_LOCALIZACAO_ESC', 'Q005',\n",
       "       'TP_PRESENCA_CN'],\n",
       "      dtype='object')"
      ]
     },
     "execution_count": 3,
     "metadata": {},
     "output_type": "execute_result"
    }
   ],
   "source": [
    "df_filtrado = dados[['NU_NOTA_CN','TP_ESCOLA','Q006','Q025','TP_LOCALIZACAO_ESC','Q005','TP_PRESENCA_CN']]\n",
    "df_filtrado.columns"
   ]
  },
  {
   "cell_type": "markdown",
   "metadata": {},
   "source": [
    "Aqui foi necessario filtrar o DataFrame para utilizar apenas os dados de alunos que compareceram."
   ]
  },
  {
   "cell_type": "code",
   "execution_count": 4,
   "metadata": {},
   "outputs": [],
   "source": [
    "df_filtrado = df_filtrado.loc[df_filtrado['TP_PRESENCA_CN'] == 1]\n",
    "\n"
   ]
  },
  {
   "cell_type": "code",
   "execution_count": 5,
   "metadata": {},
   "outputs": [
    {
     "data": {
      "text/html": [
       "<div>\n",
       "<style scoped>\n",
       "    .dataframe tbody tr th:only-of-type {\n",
       "        vertical-align: middle;\n",
       "    }\n",
       "\n",
       "    .dataframe tbody tr th {\n",
       "        vertical-align: top;\n",
       "    }\n",
       "\n",
       "    .dataframe thead th {\n",
       "        text-align: right;\n",
       "    }\n",
       "</style>\n",
       "<table border=\"1\" class=\"dataframe\">\n",
       "  <thead>\n",
       "    <tr style=\"text-align: right;\">\n",
       "      <th></th>\n",
       "      <th>NU_NOTA_CN</th>\n",
       "      <th>TP_ESCOLA</th>\n",
       "      <th>Q006</th>\n",
       "      <th>Q025</th>\n",
       "      <th>TP_LOCALIZACAO_ESC</th>\n",
       "      <th>Q005</th>\n",
       "      <th>TP_PRESENCA_CN</th>\n",
       "    </tr>\n",
       "  </thead>\n",
       "  <tbody>\n",
       "    <tr>\n",
       "      <th>2</th>\n",
       "      <td>502.0</td>\n",
       "      <td>1</td>\n",
       "      <td>C</td>\n",
       "      <td>B</td>\n",
       "      <td>NaN</td>\n",
       "      <td>5</td>\n",
       "      <td>1</td>\n",
       "    </tr>\n",
       "    <tr>\n",
       "      <th>3</th>\n",
       "      <td>459.0</td>\n",
       "      <td>2</td>\n",
       "      <td>C</td>\n",
       "      <td>B</td>\n",
       "      <td>1.0</td>\n",
       "      <td>5</td>\n",
       "      <td>1</td>\n",
       "    </tr>\n",
       "    <tr>\n",
       "      <th>4</th>\n",
       "      <td>402.5</td>\n",
       "      <td>2</td>\n",
       "      <td>B</td>\n",
       "      <td>A</td>\n",
       "      <td>1.0</td>\n",
       "      <td>4</td>\n",
       "      <td>1</td>\n",
       "    </tr>\n",
       "    <tr>\n",
       "      <th>9</th>\n",
       "      <td>564.7</td>\n",
       "      <td>1</td>\n",
       "      <td>F</td>\n",
       "      <td>B</td>\n",
       "      <td>NaN</td>\n",
       "      <td>2</td>\n",
       "      <td>1</td>\n",
       "    </tr>\n",
       "    <tr>\n",
       "      <th>10</th>\n",
       "      <td>644.9</td>\n",
       "      <td>1</td>\n",
       "      <td>B</td>\n",
       "      <td>B</td>\n",
       "      <td>NaN</td>\n",
       "      <td>4</td>\n",
       "      <td>1</td>\n",
       "    </tr>\n",
       "    <tr>\n",
       "      <th>...</th>\n",
       "      <td>...</td>\n",
       "      <td>...</td>\n",
       "      <td>...</td>\n",
       "      <td>...</td>\n",
       "      <td>...</td>\n",
       "      <td>...</td>\n",
       "      <td>...</td>\n",
       "    </tr>\n",
       "    <tr>\n",
       "      <th>3933946</th>\n",
       "      <td>568.6</td>\n",
       "      <td>1</td>\n",
       "      <td>D</td>\n",
       "      <td>B</td>\n",
       "      <td>NaN</td>\n",
       "      <td>3</td>\n",
       "      <td>1</td>\n",
       "    </tr>\n",
       "    <tr>\n",
       "      <th>3933948</th>\n",
       "      <td>476.2</td>\n",
       "      <td>2</td>\n",
       "      <td>F</td>\n",
       "      <td>B</td>\n",
       "      <td>1.0</td>\n",
       "      <td>4</td>\n",
       "      <td>1</td>\n",
       "    </tr>\n",
       "    <tr>\n",
       "      <th>3933950</th>\n",
       "      <td>566.2</td>\n",
       "      <td>1</td>\n",
       "      <td>F</td>\n",
       "      <td>B</td>\n",
       "      <td>NaN</td>\n",
       "      <td>5</td>\n",
       "      <td>1</td>\n",
       "    </tr>\n",
       "    <tr>\n",
       "      <th>3933951</th>\n",
       "      <td>377.2</td>\n",
       "      <td>1</td>\n",
       "      <td>F</td>\n",
       "      <td>B</td>\n",
       "      <td>NaN</td>\n",
       "      <td>4</td>\n",
       "      <td>1</td>\n",
       "    </tr>\n",
       "    <tr>\n",
       "      <th>3933953</th>\n",
       "      <td>515.7</td>\n",
       "      <td>3</td>\n",
       "      <td>N</td>\n",
       "      <td>B</td>\n",
       "      <td>NaN</td>\n",
       "      <td>3</td>\n",
       "      <td>1</td>\n",
       "    </tr>\n",
       "  </tbody>\n",
       "</table>\n",
       "<p>2692427 rows × 7 columns</p>\n",
       "</div>"
      ],
      "text/plain": [
       "         NU_NOTA_CN  TP_ESCOLA Q006 Q025  TP_LOCALIZACAO_ESC  Q005  \\\n",
       "2             502.0          1    C    B                 NaN     5   \n",
       "3             459.0          2    C    B                 1.0     5   \n",
       "4             402.5          2    B    A                 1.0     4   \n",
       "9             564.7          1    F    B                 NaN     2   \n",
       "10            644.9          1    B    B                 NaN     4   \n",
       "...             ...        ...  ...  ...                 ...   ...   \n",
       "3933946       568.6          1    D    B                 NaN     3   \n",
       "3933948       476.2          2    F    B                 1.0     4   \n",
       "3933950       566.2          1    F    B                 NaN     5   \n",
       "3933951       377.2          1    F    B                 NaN     4   \n",
       "3933953       515.7          3    N    B                 NaN     3   \n",
       "\n",
       "         TP_PRESENCA_CN  \n",
       "2                     1  \n",
       "3                     1  \n",
       "4                     1  \n",
       "9                     1  \n",
       "10                    1  \n",
       "...                 ...  \n",
       "3933946               1  \n",
       "3933948               1  \n",
       "3933950               1  \n",
       "3933951               1  \n",
       "3933953               1  \n",
       "\n",
       "[2692427 rows x 7 columns]"
      ]
     },
     "execution_count": 5,
     "metadata": {},
     "output_type": "execute_result"
    }
   ],
   "source": [
    "df_filtrado"
   ]
  },
  {
   "cell_type": "markdown",
   "metadata": {},
   "source": [
    "Nesta etapa é essencial transformar variáveis qualitativas em categorias categóricas. Isso simplifica a interpretação dos dados e melhora a capacidade dos modelos de predição em compreendê-los de forma mais eficaz."
   ]
  },
  {
   "cell_type": "code",
   "execution_count": 12,
   "metadata": {},
   "outputs": [],
   "source": [
    "# Converter as variáveis qualitativas para categóricas\n",
    "df_filtrado['TP_ESCOLA'] = df_filtrado['TP_ESCOLA'].astype('category')\n",
    "df_filtrado['Q006'] = df_filtrado['Q006'].astype('category')\n",
    "df_filtrado['Q025'] = df_filtrado['Q025'].astype('category')\n",
    "df_filtrado['TP_LOCALIZACAO_ESC'] = df_filtrado['TP_LOCALIZACAO_ESC'].astype('category')\n"
   ]
  },
  {
   "cell_type": "code",
   "execution_count": 13,
   "metadata": {},
   "outputs": [
    {
     "data": {
      "text/plain": [
       "count    2.692427e+06\n",
       "mean     4.957515e+02\n",
       "std      8.792872e+01\n",
       "min      0.000000e+00\n",
       "25%      4.405000e+02\n",
       "50%      4.939000e+02\n",
       "75%      5.512000e+02\n",
       "max      8.684000e+02\n",
       "Name: NU_NOTA_CN, dtype: float64"
      ]
     },
     "execution_count": 13,
     "metadata": {},
     "output_type": "execute_result"
    }
   ],
   "source": [
    "df_filtrado['NU_NOTA_CN'].describe()"
   ]
  },
  {
   "cell_type": "markdown",
   "metadata": {},
   "source": [
    "A função .describe fornece diversas informações detalhadas sobre as notas de Ciências da Natureza, permitindo uma análise abrangente dos dados:\n",
    "\n",
    "- Contagem: 2.692.427 estudantes participaram.\n",
    "- Média: A nota média foi de 495,75.\n",
    "- Desvio Padrão: O desvio padrão é de aproximadamente 879,08, indicando uma grande variação nas notas.\n",
    "- Mínimo: A nota mínima registrada é 0, o que pode indicar que alguns alunos faltaram ou zeraram a prova.\n",
    "- 1º Quartil (25%): 25% dos estudantes tiveram notas abaixo de 440.\n",
    "- Mediana (50%): A nota mediana é 493, o que significa que metade dos estudantes tirou menos que isso e a outra metade mais.\n",
    "- 3º Quartil (75%): 75% dos estudantes tiveram notas abaixo de 551.\n",
    "- Máximo: A nota máxima foi 869,4.\n",
    "\n",
    "Esses dados permitem uma compreensão detalhada da distribuição das notas e ajudam a identificar padrões e variações de desempenho entre os estudantes."
   ]
  },
  {
   "cell_type": "markdown",
   "metadata": {},
   "source": [
    "# Análise da distribuição de notas de Ciências da Natureza "
   ]
  },
  {
   "cell_type": "code",
   "execution_count": 22,
   "metadata": {},
   "outputs": [
    {
     "data": {
      "image/png": "[encoded data removed]",
      "text/plain": [
       "<Figure size 1000x600 with 1 Axes>"
      ]
     },
     "metadata": {},
     "output_type": "display_data"
    }
   ],
   "source": [
    "\n",
    "plt.figure(figsize=(10, 6))\n",
    "plt.hist(df_filtrado['NU_NOTA_CN'], bins=50, color='blue', edgecolor='black')\n",
    "plt.title('Distribuição das Notas de Ciências da Natureza do ENEM 2023')\n",
    "plt.xlabel('Nota de Ciências da Natureza')\n",
    "plt.ylabel('Frequência')\n",
    "plt.grid(axis='y', alpha=0.75)\n",
    "plt.show()"
   ]
  },
  {
   "cell_type": "markdown",
   "metadata": {},
   "source": [
    "**Distribuição das Notas:**\n",
    "\n",
    "- A maior concentração de notas está na faixa de 400 a 600 pontos.\n",
    "- A distribuição das notas parece ter uma forma aproximadamente normal, com uma leve assimetria à esquerda.\n",
    "\n",
    "**Outliers e Notas Baixas:**\n",
    "\n",
    "- Há um pico significativo em torno de 0 pontos, indicando que muitos alunos obtiveram uma nota extremamente baixa ou nula.\n",
    "- Este pico pode ser causado por alunos que não responderam à prova, responderam incorretamente ou outras razões específicas para notas nulas.\n",
    "\n",
    "**Notas Altas:**\n",
    "\n",
    "- A frequência de notas acima de 700 pontos é muito baixa, indicando que poucos alunos alcançam notas muito altas em Ciências da Natureza.\n",
    "\n",
    "**Frequência:**\n",
    "\n",
    "- A maioria dos alunos obteve notas entre 400 e 600 pontos, com o pico mais alto de frequência próximo de 500 pontos.\n"
   ]
  },
  {
   "cell_type": "markdown",
   "metadata": {},
   "source": [
    "## Análise da Variável Alvo (NU_NOTA_CN) vs. TP_ESCOLA\n"
   ]
  },
  {
   "cell_type": "code",
   "execution_count": null,
   "metadata": {},
   "outputs": [
    {
     "name": "stderr",
     "output_type": "stream",
     "text": [
      "C:\\Users\\matheus\\AppData\\Local\\Temp\\ipykernel_17740\\3980037041.py:2: FutureWarning: The `inplace` parameter in pandas.Categorical.rename_categories is deprecated and will be removed in a future version. Removing unused categories will always return a new Categorical object.\n",
      "  df_filtrado['TP_ESCOLA'].cat.rename_categories({1: 'Não Respondeu', 2: 'Escola Pública', 3: 'Escola Privada'}, inplace=True)\n"
     ]
    },
    {
     "data": {
      "image/png": "[encoded data removed]",
      "text/plain": [
       "<Figure size 1000x600 with 1 Axes>"
      ]
     },
     "metadata": {},
     "output_type": "display_data"
    }
   ],
   "source": [
    "# Renomear as categorias de TP_ESCOLA\n",
    "df_filtrado['TP_ESCOLA'].cat.rename_categories({1: 'Não Respondeu', 2: 'Escola Pública', 3: 'Escola Privada'}, inplace=True)\n",
    "\n",
    "# Gráfico de boxplot para analisar a distribuição das notas em CN por tipo de escola\n",
    "plt.figure(figsize=(10, 6))\n",
    "sns.boxplot(x='TP_ESCOLA', y='NU_NOTA_CN', data=df_filtrado)\n",
    "plt.title('Distribuição da Nota em Ciências da Natureza por Tipo de Escola')\n",
    "plt.xlabel('Tipo de Escola')\n",
    "plt.ylabel('Nota em Ciências da Natureza')\n",
    "plt.show()"
   ]
  },
  {
   "cell_type": "markdown",
   "metadata": {},
   "source": [
    "**Interpretação**\n",
    "\n",
    "**Distribuição das Notas por Tipo de Escola:**\n",
    "\n",
    "- **Tipo de Escola 1:** Tem uma mediana mais alta comparada com o Tipo de Escola 2, e possui uma maior variação de notas.\n",
    "- **Tipo de Escola 2:** Apresenta a menor mediana e uma distribuição mais concentrada em notas mais baixas.\n",
    "- **Tipo de Escola 3:** Tem a maior mediana, indicando que os alunos desse tipo de escola tendem a ter notas mais altas em Ciências da Natureza.\n",
    "\n",
    "**Dispersão das Notas:**\n",
    "\n",
    "Todas as categorias de escola apresentam outliers, com alguns alunos obtendo notas excepcionalmente altas ou baixas.\n"
   ]
  },
  {
   "cell_type": "markdown",
   "metadata": {},
   "source": [
    "## como o número de pessoas na residência (Q005) influencia as notas em Ciências da Natureza (NU_NOTA_CN)."
   ]
  },
  {
   "cell_type": "code",
   "execution_count": null,
   "metadata": {},
   "outputs": [],
   "source": []
  },
  {
   "cell_type": "code",
   "execution_count": null,
   "metadata": {},
   "outputs": [],
   "source": []
  }
 ],
 "metadata": {
  "kernelspec": {
   "display_name": "base",
   "language": "python",
   "name": "python3"
  },
  "language_info": {
   "codemirror_mode": {
    "name": "ipython",
    "version": 3
   },
   "file_extension": ".py",
   "mimetype": "text/x-python",
   "name": "python",
   "nbconvert_exporter": "python",
   "pygments_lexer": "ipython3",
   "version": "3.9.13"
  }
 },
 "nbformat": 4,
 "nbformat_minor": 2
}
