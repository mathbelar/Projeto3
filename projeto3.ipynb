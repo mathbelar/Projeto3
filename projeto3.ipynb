{
 "cells": [
  {
   "cell_type": "markdown",
   "metadata": {},
   "source": [
    "# Membros: \n",
    "Augusto Ricardo Ferreira, Matheus Pereira Belarmino "
   ]
  },
  {
   "cell_type": "markdown",
   "metadata": {},
   "source": [
    "TARGET: nota ciencias da natureza (NU_NOTA_CN)\n",
    "\n",
    "FUTEURE: \n",
    "Situação de conclusão do Ensino Médio (TP_ST_CONCLUSAO);\n",
    "Tipo de escola do Ensino Médio (TP_ESCOLA);\n",
    "Qual é a renda mensal de sua família (Q006);\n",
    "Na sua residência tem acesso à Internet? (Q025); \n",
    "Incluindo você, quantas pessoas moram atualmente em sua residência? (Q005); \n",
    "Localização da Escola (TP_LOCALIZACAO_ESC)"
   ]
  },
  {
   "cell_type": "markdown",
   "metadata": {
    "vscode": {
     "languageId": "plaintext"
    }
   },
   "source": [
    "# Projeto 3 - CDADOS"
   ]
  },
  {
   "cell_type": "code",
   "execution_count": null,
   "metadata": {},
   "outputs": [],
   "source": []
  },
  {
   "cell_type": "markdown",
   "metadata": {},
   "source": [
    "**Introdução e mineração de dados**"
   ]
  },
  {
   "cell_type": "code",
   "execution_count": null,
   "metadata": {},
   "outputs": [],
   "source": []
  },
  {
   "cell_type": "code",
   "execution_count": null,
   "metadata": {},
   "outputs": [],
   "source": []
  },
  {
   "cell_type": "code",
   "execution_count": 15,
   "metadata": {},
   "outputs": [
    {
     "name": "stdout",
     "output_type": "stream",
     "text": [
      "Esperamos trabalhar no diretório\n",
      "c:\\zTodoresto\\Insper\\Projeto_3_Cdados\\P3\\Projeto3\n"
     ]
    }
   ],
   "source": [
    "# carregando bibliotecas\n",
    "%matplotlib inline \n",
    "import pandas as pd\n",
    "import matplotlib.pyplot as plt\n",
    "import os\n",
    "import numpy as np\n",
    "print('Esperamos trabalhar no diretório')\n",
    "print(os.getcwd())\n"
   ]
  },
  {
   "cell_type": "code",
   "execution_count": 28,
   "metadata": {},
   "outputs": [],
   "source": [
    "dados = pd.read_csv('c:\\zTodoresto\\Insper\\Projeto_3_Cdados\\P3\\MICRODADOS_ENEM_2023.csv', sep = ';', encoding='ISO-8859-1', chunksize=1000)\n",
    "#dados = pd.read_csv('C:/Users/matheus/Desktop/projeto2_24/microdados_enem_2023/DADOS/MICRODADOS_ENEM_2023.csv', sep = ';', encoding='ISO-8859-1', chunksize=1000)\n",
    "dados = pd.concat(dados)"
   ]
  },
  {
   "cell_type": "markdown",
   "metadata": {},
   "source": [
    "A partir dos dados originais, foi criado um novo dataframe com as colunas que nos interessam para a análise."
   ]
  },
  {
   "cell_type": "code",
   "execution_count": 24,
   "metadata": {},
   "outputs": [
    {
     "data": {
      "text/plain": [
       "Index(['NU_NOTA_CN', 'TP_ESCOLA', 'Q006', 'Q025', 'TP_LOCALIZACAO_ESC', 'Q005',\n",
       "       'TP_PRESENCA_CN'],\n",
       "      dtype='object')"
      ]
     },
     "execution_count": 24,
     "metadata": {},
     "output_type": "execute_result"
    }
   ],
   "source": [
    "df_filtrado = dados[['NU_NOTA_CN','TP_ESCOLA','Q006','Q025','TP_LOCALIZACAO_ESC','Q005','TP_PRESENCA_CN']]\n",
    "df_filtrado.columns"
   ]
  },
  {
   "cell_type": "code",
   "execution_count": 25,
   "metadata": {},
   "outputs": [],
   "source": [
    "df_filtrado = df_filtrado.loc[df_filtrado['TP_PRESENCA_CN'] == 1]\n",
    "\n"
   ]
  },
  {
   "cell_type": "code",
   "execution_count": 26,
   "metadata": {},
   "outputs": [
    {
     "data": {
      "text/html": [
       "<div>\n",
       "<style scoped>\n",
       "    .dataframe tbody tr th:only-of-type {\n",
       "        vertical-align: middle;\n",
       "    }\n",
       "\n",
       "    .dataframe tbody tr th {\n",
       "        vertical-align: top;\n",
       "    }\n",
       "\n",
       "    .dataframe thead th {\n",
       "        text-align: right;\n",
       "    }\n",
       "</style>\n",
       "<table border=\"1\" class=\"dataframe\">\n",
       "  <thead>\n",
       "    <tr style=\"text-align: right;\">\n",
       "      <th></th>\n",
       "      <th>NU_NOTA_CN</th>\n",
       "      <th>TP_ESCOLA</th>\n",
       "      <th>Q006</th>\n",
       "      <th>Q025</th>\n",
       "      <th>TP_LOCALIZACAO_ESC</th>\n",
       "      <th>Q005</th>\n",
       "      <th>TP_PRESENCA_CN</th>\n",
       "    </tr>\n",
       "  </thead>\n",
       "  <tbody>\n",
       "    <tr>\n",
       "      <th>2</th>\n",
       "      <td>502.0</td>\n",
       "      <td>1</td>\n",
       "      <td>C</td>\n",
       "      <td>B</td>\n",
       "      <td>NaN</td>\n",
       "      <td>5</td>\n",
       "      <td>1</td>\n",
       "    </tr>\n",
       "    <tr>\n",
       "      <th>3</th>\n",
       "      <td>459.0</td>\n",
       "      <td>2</td>\n",
       "      <td>C</td>\n",
       "      <td>B</td>\n",
       "      <td>1.0</td>\n",
       "      <td>5</td>\n",
       "      <td>1</td>\n",
       "    </tr>\n",
       "    <tr>\n",
       "      <th>4</th>\n",
       "      <td>402.5</td>\n",
       "      <td>2</td>\n",
       "      <td>B</td>\n",
       "      <td>A</td>\n",
       "      <td>1.0</td>\n",
       "      <td>4</td>\n",
       "      <td>1</td>\n",
       "    </tr>\n",
       "    <tr>\n",
       "      <th>9</th>\n",
       "      <td>564.7</td>\n",
       "      <td>1</td>\n",
       "      <td>F</td>\n",
       "      <td>B</td>\n",
       "      <td>NaN</td>\n",
       "      <td>2</td>\n",
       "      <td>1</td>\n",
       "    </tr>\n",
       "    <tr>\n",
       "      <th>10</th>\n",
       "      <td>644.9</td>\n",
       "      <td>1</td>\n",
       "      <td>B</td>\n",
       "      <td>B</td>\n",
       "      <td>NaN</td>\n",
       "      <td>4</td>\n",
       "      <td>1</td>\n",
       "    </tr>\n",
       "    <tr>\n",
       "      <th>...</th>\n",
       "      <td>...</td>\n",
       "      <td>...</td>\n",
       "      <td>...</td>\n",
       "      <td>...</td>\n",
       "      <td>...</td>\n",
       "      <td>...</td>\n",
       "      <td>...</td>\n",
       "    </tr>\n",
       "    <tr>\n",
       "      <th>3933946</th>\n",
       "      <td>568.6</td>\n",
       "      <td>1</td>\n",
       "      <td>D</td>\n",
       "      <td>B</td>\n",
       "      <td>NaN</td>\n",
       "      <td>3</td>\n",
       "      <td>1</td>\n",
       "    </tr>\n",
       "    <tr>\n",
       "      <th>3933948</th>\n",
       "      <td>476.2</td>\n",
       "      <td>2</td>\n",
       "      <td>F</td>\n",
       "      <td>B</td>\n",
       "      <td>1.0</td>\n",
       "      <td>4</td>\n",
       "      <td>1</td>\n",
       "    </tr>\n",
       "    <tr>\n",
       "      <th>3933950</th>\n",
       "      <td>566.2</td>\n",
       "      <td>1</td>\n",
       "      <td>F</td>\n",
       "      <td>B</td>\n",
       "      <td>NaN</td>\n",
       "      <td>5</td>\n",
       "      <td>1</td>\n",
       "    </tr>\n",
       "    <tr>\n",
       "      <th>3933951</th>\n",
       "      <td>377.2</td>\n",
       "      <td>1</td>\n",
       "      <td>F</td>\n",
       "      <td>B</td>\n",
       "      <td>NaN</td>\n",
       "      <td>4</td>\n",
       "      <td>1</td>\n",
       "    </tr>\n",
       "    <tr>\n",
       "      <th>3933953</th>\n",
       "      <td>515.7</td>\n",
       "      <td>3</td>\n",
       "      <td>N</td>\n",
       "      <td>B</td>\n",
       "      <td>NaN</td>\n",
       "      <td>3</td>\n",
       "      <td>1</td>\n",
       "    </tr>\n",
       "  </tbody>\n",
       "</table>\n",
       "<p>2692427 rows × 7 columns</p>\n",
       "</div>"
      ],
      "text/plain": [
       "         NU_NOTA_CN  TP_ESCOLA Q006 Q025  TP_LOCALIZACAO_ESC  Q005  \\\n",
       "2             502.0          1    C    B                 NaN     5   \n",
       "3             459.0          2    C    B                 1.0     5   \n",
       "4             402.5          2    B    A                 1.0     4   \n",
       "9             564.7          1    F    B                 NaN     2   \n",
       "10            644.9          1    B    B                 NaN     4   \n",
       "...             ...        ...  ...  ...                 ...   ...   \n",
       "3933946       568.6          1    D    B                 NaN     3   \n",
       "3933948       476.2          2    F    B                 1.0     4   \n",
       "3933950       566.2          1    F    B                 NaN     5   \n",
       "3933951       377.2          1    F    B                 NaN     4   \n",
       "3933953       515.7          3    N    B                 NaN     3   \n",
       "\n",
       "         TP_PRESENCA_CN  \n",
       "2                     1  \n",
       "3                     1  \n",
       "4                     1  \n",
       "9                     1  \n",
       "10                    1  \n",
       "...                 ...  \n",
       "3933946               1  \n",
       "3933948               1  \n",
       "3933950               1  \n",
       "3933951               1  \n",
       "3933953               1  \n",
       "\n",
       "[2692427 rows x 7 columns]"
      ]
     },
     "execution_count": 26,
     "metadata": {},
     "output_type": "execute_result"
    }
   ],
   "source": [
    "df_filtrado"
   ]
  },
  {
   "cell_type": "code",
   "execution_count": null,
   "metadata": {},
   "outputs": [],
   "source": []
  },
  {
   "cell_type": "code",
   "execution_count": null,
   "metadata": {},
   "outputs": [],
   "source": []
  }
 ],
 "metadata": {
  "kernelspec": {
   "display_name": "base",
   "language": "python",
   "name": "python3"
  },
  "language_info": {
   "codemirror_mode": {
    "name": "ipython",
    "version": 3
   },
   "file_extension": ".py",
   "mimetype": "text/x-python",
   "name": "python",
   "nbconvert_exporter": "python",
   "pygments_lexer": "ipython3",
   "version": "3.9.13"
  }
 },
 "nbformat": 4,
 "nbformat_minor": 2
}
